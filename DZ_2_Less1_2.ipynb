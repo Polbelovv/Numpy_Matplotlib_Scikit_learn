{
 "cells": [
  {
   "cell_type": "markdown",
   "id": "81f6583c",
   "metadata": {},
   "source": [
    "#  “Вычисления с помощью Numpy”"
   ]
  },
  {
   "cell_type": "markdown",
   "id": "b9aeb63b",
   "metadata": {},
   "source": [
    "Задание 1"
   ]
  },
  {
   "cell_type": "code",
   "execution_count": 31,
   "id": "b6da1aa0",
   "metadata": {},
   "outputs": [
    {
     "name": "stdout",
     "output_type": "stream",
     "text": [
      "Массив a:\n",
      "[[ 1  6]\n",
      " [ 2  8]\n",
      " [ 3 11]\n",
      " [ 3 10]\n",
      " [ 1  7]]\n",
      "\n",
      "Среднее значение по каждому признаку:\n",
      "[2.  8.4]\n"
     ]
    }
   ],
   "source": [
    "import numpy as np\n",
    "\n",
    "# Создаем массив a размером 5x2\n",
    "a = np.array([[1, 6], [2, 8], [3, 11], [3, 10], [1, 7]])\n",
    "\n",
    "# Находим среднее значение по каждому столбцу\n",
    "mean_a = a.mean(axis=0)\n",
    "\n",
    "print(\"Массив a:\")\n",
    "print(a)\n",
    "\n",
    "print()\n",
    "print(\"Среднее значение по каждому признаку:\")\n",
    "print(mean_a)"
   ]
  },
  {
   "cell_type": "markdown",
   "id": "d92c9be7",
   "metadata": {},
   "source": [
    "Задание 2"
   ]
  },
  {
   "cell_type": "code",
   "execution_count": 32,
   "id": "a4e6a517",
   "metadata": {},
   "outputs": [
    {
     "name": "stdout",
     "output_type": "stream",
     "text": [
      "Массив a:\n",
      "[[ 1  6]\n",
      " [ 2  8]\n",
      " [ 3 11]\n",
      " [ 3 10]\n",
      " [ 1  7]]\n",
      "\n",
      "Среднее значение по каждому признаку:\n",
      "[2.  8.4]\n",
      "\n",
      "Центрированный массив a_centered:\n",
      "[[-1.  -2.4]\n",
      " [ 0.  -0.4]\n",
      " [ 1.   2.6]\n",
      " [ 1.   1.6]\n",
      " [-1.  -1.4]]\n"
     ]
    }
   ],
   "source": [
    "import numpy as np\n",
    "\n",
    "# Создаем массив a размером 5x2\n",
    "a = np.array([[1, 6], [2, 8], [3, 11], [3, 10], [1, 7]])\n",
    "\n",
    "# Находим среднее значение по каждому столбцу\n",
    "mean_a = a.mean(axis=0)\n",
    "\n",
    "# Вычисляем массив a_centered\n",
    "a_centered = a - mean_a\n",
    "\n",
    "print(\"Массив a:\")\n",
    "print(a)\n",
    "\n",
    "print()\n",
    "print(\"Среднее значение по каждому признаку:\")\n",
    "print(mean_a)\n",
    "\n",
    "print()\n",
    "print(\"Центрированный массив a_centered:\")\n",
    "print(a_centered)"
   ]
  },
  {
   "cell_type": "markdown",
   "id": "5ff68a96",
   "metadata": {},
   "source": [
    "Задание 3"
   ]
  },
  {
   "cell_type": "code",
   "execution_count": 33,
   "id": "6e0ac4b6",
   "metadata": {},
   "outputs": [
    {
     "name": "stdout",
     "output_type": "stream",
     "text": [
      "Массив a:\n",
      "[[ 1  6]\n",
      " [ 2  8]\n",
      " [ 3 11]\n",
      " [ 3 10]\n",
      " [ 1  7]]\n",
      "\n",
      "Среднее значение по каждому признаку:\n",
      "[2.  8.4]\n",
      "\n",
      "Центрированный массив a_centered:\n",
      "[[-1.  -2.4]\n",
      " [ 0.  -0.4]\n",
      " [ 1.   2.6]\n",
      " [ 1.   1.6]\n",
      " [-1.  -1.4]]\n",
      "\n",
      "Скалярное произведение столбцов a_centered: 8.0\n",
      "centered_sp: 2.0\n"
     ]
    }
   ],
   "source": [
    "import numpy as np\n",
    "\n",
    "# Создаем массив a размером 5x2\n",
    "a = np.array([[1, 6], [2, 8], [3, 11], [3, 10], [1, 7]])\n",
    "\n",
    "# Находим среднее значение по каждому столбцу\n",
    "mean_a = a.mean(axis=0)\n",
    "\n",
    "# Вычисляем массив a_centered\n",
    "a_centered = a - mean_a\n",
    "\n",
    "# Находим скалярное произведение столбцов массива a_centered\n",
    "centered_spa = np.dot(a_centered.T[0], a_centered.T[1])\n",
    "\n",
    "print(\"Массив a:\")\n",
    "print(a)\n",
    "\n",
    "print()\n",
    "print(\"Среднее значение по каждому признаку:\")\n",
    "print(mean_a)\n",
    "\n",
    "print()\n",
    "print(\"Центрированный массив a_centered:\")\n",
    "print(a_centered)\n",
    "\n",
    "print()\n",
    "print(\"Скалярное произведение столбцов a_centered:\", centered_spa)\n",
    "\n",
    "N = len(a_centered)  # число наблюдений\n",
    "centered_sp = centered_spa / (N - 1)\n",
    "print(\"centered_sp:\", centered_sp)"
   ]
  },
  {
   "cell_type": "code",
   "execution_count": 35,
   "id": "eab08de2",
   "metadata": {},
   "outputs": [
    {
     "name": "stdout",
     "output_type": "stream",
     "text": [
      "centered_sp: 2.0\n",
      "Ковариационная матрица:\n",
      "[[1.  2. ]\n",
      " [2.  4.3]]\n",
      "Значение ковариации: 2.0\n"
     ]
    }
   ],
   "source": [
    "import numpy as np\n",
    "\n",
    "# Создаем массив a размером 5x2\n",
    "a = np.array([[1, 6], [2, 8], [3, 11], [3, 10], [1, 7]])\n",
    "\n",
    "# Находим среднее значение по каждому столбцу\n",
    "mean_a = a.mean(axis=0)\n",
    "\n",
    "# Вычисляем массив a_centered\n",
    "a_centered = a - mean_a\n",
    "\n",
    "# Находим скалярное произведение столбцов массива a_centered\n",
    "centered_spa = np.dot(a_centered.T[0], a_centered.T[1])\n",
    "\n",
    "N = len(a_centered)  # число наблюдений\n",
    "centered_sp = centered_spa / (N - 1)\n",
    "print(\"centered_sp:\", centered_sp)\n",
    "\n",
    "# Вычислим ковариацию с помощью функции np.cov\n",
    "m = a_centered.transpose()\n",
    "covar_matrix = np.cov(m)\n",
    "\n",
    "print(\"Ковариационная матрица:\")\n",
    "print(covar_matrix)\n",
    "\n",
    "covariance = covar_matrix[0, 1]\n",
    "print(\"Значение ковариации:\", covariance)"
   ]
  },
  {
   "cell_type": "markdown",
   "id": "962040d8",
   "metadata": {},
   "source": [
    "# 'работа в Pandas'"
   ]
  },
  {
   "cell_type": "markdown",
   "id": "fe9f5bfb",
   "metadata": {},
   "source": [
    "задание 1"
   ]
  },
  {
   "cell_type": "code",
   "execution_count": 36,
   "id": "11c54071",
   "metadata": {},
   "outputs": [
    {
     "name": "stdout",
     "output_type": "stream",
     "text": [
      "   author_id author_name\n",
      "0          1    Тургенев\n",
      "1          2       Чехов\n",
      "2          3  Островский\n",
      "   author_id            book_title  price\n",
      "0          1           Отцы и дети    500\n",
      "1          1                 Рудин    400\n",
      "2          1     Дворянское гнездо    300\n",
      "3          2      Толстый и тонкий    350\n",
      "4          2       Дама с собачкой    450\n",
      "5          3                 Гроза    600\n",
      "6          3  Таланты и поклонники    200\n"
     ]
    }
   ],
   "source": [
    "import pandas as pd\n",
    "\n",
    "# Создаем датафрейм authors со столбцами author_id и author_name\n",
    "authors = pd.DataFrame({\n",
    "    'author_id': [1, 2, 3],\n",
    "    'author_name': ['Тургенев', 'Чехов', 'Островский']\n",
    "})\n",
    "\n",
    "# Выводим датафрейм на экран\n",
    "print(authors)\n",
    "\n",
    "# Создаём датафрейм book со столбцами author_id, book_title и price\n",
    "book = pd.DataFrame({\n",
    "    'author_id': [1, 1, 1, 2, 2, 3, 3],\n",
    "    'book_title': ['Отцы и дети', 'Рудин', 'Дворянское гнездо', 'Толстый и тонкий', 'Дама с собачкой', 'Гроза', 'Таланты и поклонники'],\n",
    "    'price': [500, 400, 300, 350, 450, 600, 200]\n",
    "})\n",
    "\n",
    "# Выводим датафрейм на экран\n",
    "print(book)\n"
   ]
  },
  {
   "cell_type": "markdown",
   "id": "abf9926b",
   "metadata": {},
   "source": [
    "задание 2"
   ]
  },
  {
   "cell_type": "code",
   "execution_count": 38,
   "id": "3f12d07f",
   "metadata": {},
   "outputs": [
    {
     "name": "stdout",
     "output_type": "stream",
     "text": [
      "   author_id author_name\n",
      "0          1    Тургенев\n",
      "1          2       Чехов\n",
      "2          3  Островский\n",
      "   author_id author_name            book_title  price\n",
      "0          1    Тургенев           Отцы и дети    500\n",
      "1          1    Тургенев                 Рудин    400\n",
      "2          1    Тургенев     Дворянское гнездо    300\n",
      "3          2       Чехов      Толстый и тонкий    350\n",
      "4          2       Чехов       Дама с собачкой    450\n",
      "5          3  Островский                 Гроза    600\n",
      "6          3  Островский  Таланты и поклонники    200\n"
     ]
    }
   ],
   "source": [
    "import pandas as pd\n",
    "\n",
    "# Создаем датафрейм authors со столбцами author_id и author_name\n",
    "authors = pd.DataFrame({\n",
    "    'author_id': [1, 2, 3],\n",
    "    'author_name': ['Тургенев', 'Чехов', 'Островский']\n",
    "})\n",
    "\n",
    "# Выводим датафрейм на экран\n",
    "print(authors)\n",
    "\n",
    "# Создаём датафрейм book со столбцами author_id, book_title и price\n",
    "book = pd.DataFrame({\n",
    "    'author_id': [1, 1, 1, 2, 2, 3, 3],\n",
    "    'book_title': ['Отцы и дети', 'Рудин', 'Дворянское гнездо', 'Толстый и тонкий', 'Дама с собачкой', 'Гроза', 'Таланты и поклонники'],\n",
    "    'price': [500, 400, 300, 350, 450, 600, 200]\n",
    "})\n",
    "\n",
    "# Соединяем датафреймы authors и book по полю author_id\n",
    "authors_price = pd.merge(authors, book, on='author_id')\n",
    "\n",
    "# Выводим полученный датафрейм на экран\n",
    "print(authors_price)\n"
   ]
  },
  {
   "cell_type": "markdown",
   "id": "175a888f",
   "metadata": {},
   "source": [
    "задание 3"
   ]
  },
  {
   "cell_type": "code",
   "execution_count": 39,
   "id": "aa8c6e0f",
   "metadata": {},
   "outputs": [
    {
     "name": "stdout",
     "output_type": "stream",
     "text": [
      "   author_id author_name\n",
      "0          1    Тургенев\n",
      "1          2       Чехов\n",
      "2          3  Островский\n",
      "   author_id author_name        book_title  price\n",
      "5          3  Островский             Гроза    600\n",
      "0          1    Тургенев       Отцы и дети    500\n",
      "4          2       Чехов   Дама с собачкой    450\n",
      "1          1    Тургенев             Рудин    400\n",
      "3          2       Чехов  Толстый и тонкий    350\n"
     ]
    }
   ],
   "source": [
    "import pandas as pd\n",
    "\n",
    "# Создаем датафрейм authors со столбцами author_id и author_name\n",
    "authors = pd.DataFrame({\n",
    "    'author_id': [1, 2, 3],\n",
    "    'author_name': ['Тургенев', 'Чехов', 'Островский']\n",
    "})\n",
    "\n",
    "# Выводим датафрейм на экран\n",
    "print(authors)\n",
    "\n",
    "# Создаём датафрейм book со столбцами author_id, book_title и price\n",
    "book = pd.DataFrame({\n",
    "    'author_id': [1, 1, 1, 2, 2, 3, 3],\n",
    "    'book_title': ['Отцы и дети', 'Рудин', 'Дворянское гнездо', 'Толстый и тонкий', 'Дама с собачкой', 'Гроза', 'Таланты и поклонники'],\n",
    "    'price': [500, 400, 300, 350, 450, 600, 200]\n",
    "})\n",
    "\n",
    "# Соединяем датафреймы authors и book по полю author_id\n",
    "authors_price = pd.merge(authors, book, on='author_id')\n",
    "\n",
    "# Сортируем датафрейм по цене в порядке убывания\n",
    "authors_price.sort_values(by=['price'], ascending=False, inplace=True)\n",
    "\n",
    "# Получаем первые пять строк\n",
    "top5 = authors_price.head(5)\n",
    "\n",
    "# Выводим полученный датафрейм на экран\n",
    "print(top5)\n"
   ]
  },
  {
   "cell_type": "markdown",
   "id": "c243feb6",
   "metadata": {},
   "source": [
    "задание 4"
   ]
  },
  {
   "cell_type": "code",
   "execution_count": 40,
   "id": "dcdca74f",
   "metadata": {},
   "outputs": [
    {
     "name": "stdout",
     "output_type": "stream",
     "text": [
      "   author_id author_name\n",
      "0          1    Тургенев\n",
      "1          2       Чехов\n",
      "2          3  Островский\n",
      "                                                   author_name  min_price  \\\n",
      "author_name                                                                 \n",
      "Островский   <built-in method values of PrettyDict object a...        200   \n",
      "Тургенев     <built-in method values of PrettyDict object a...        300   \n",
      "Чехов        <built-in method values of PrettyDict object a...        350   \n",
      "\n",
      "             max_price  mean_price  \n",
      "author_name                         \n",
      "Островский         600         400  \n",
      "Тургенев           500         400  \n",
      "Чехов              450         400  \n"
     ]
    }
   ],
   "source": [
    "import pandas as pd\n",
    "\n",
    "# Создаем датафрейм authors со столбцами author_id и author_name\n",
    "authors = pd.DataFrame({\n",
    "    'author_id': [1, 2, 3],\n",
    "    'author_name': ['Тургенев', 'Чехов', 'Островский']\n",
    "})\n",
    "\n",
    "# Выводим датафрейм на экран\n",
    "print(authors)\n",
    "\n",
    "# Создаём датафрейм book со столбцами author_id, book_title и price\n",
    "book = pd.DataFrame({\n",
    "    'author_id': [1, 1, 1, 2, 2, 3, 3],\n",
    "    'book_title': ['Отцы и дети', 'Рудин', 'Дворянское гнездо', 'Толстый и тонкий', 'Дама с собачкой', 'Гроза', 'Таланты и поклонники'],\n",
    "    'price': [500, 400, 300, 350, 450, 600, 200]\n",
    "})\n",
    "\n",
    "# Соединяем датафреймы authors и book по полю author_id\n",
    "authors_price = pd.merge(authors, book, on='author_id')\n",
    "\n",
    "# Группируем данные по авторам\n",
    "grouped = authors_price.groupby('author_name')\n",
    "\n",
    "# Получаем минимальную, максимальную и среднюю цену для каждого автора\n",
    "min_price = grouped['price'].min()\n",
    "max_price = grouped['price'].max()\n",
    "mean_price = grouped['price'].mean()\n",
    "\n",
    "# Добавляем полученные значения в новый датафрейм\n",
    "authors_stat = pd.DataFrame({'author_name': grouped.groups.values,\n",
    "                            'min_price': min_price,\n",
    "                            'max_price': max_price,\n",
    "                            'mean_price': mean_price})\n",
    "\n",
    "# Выводим полученный датафрейм на экран\n",
    "print(authors_stat)"
   ]
  },
  {
   "cell_type": "markdown",
   "id": "6ba2df60",
   "metadata": {},
   "source": [
    "задание 5"
   ]
  },
  {
   "cell_type": "code",
   "execution_count": 44,
   "id": "cada5e6a",
   "metadata": {},
   "outputs": [
    {
     "name": "stdout",
     "output_type": "stream",
     "text": [
      "Датасеты book_info и book_info2 идентичны.\n"
     ]
    }
   ],
   "source": [
    "import pandas as pd\n",
    "import numpy as np\n",
    "\n",
    "# Создание исходного датафрейма authors_price\n",
    "authors_price = pd.DataFrame({\n",
    "    'author_id': [1, 2, 3, 4, 5],\n",
    "    'author_name': ['Тургенев', 'Чехов', 'Островский', 'Гоголь', 'Достоевский'],\n",
    "    'book_title': ['Отцы и дети', 'Толстый и тонкий', 'Гроза', 'Толстый и тонкий', 'Идиот'],\n",
    "    'price': [450, 300, 350, 500, 450]\n",
    "})\n",
    "\n",
    "# Добавление столбца 'cover'\n",
    "authors_price['cover'] = ['твердая', 'мягкая', 'мягкая', 'твердая', 'твердая']\n",
    "\n",
    "# Создание сводной таблицы с суммарной стоимостью книг в твердой и мягкой обложке по авторам\n",
    "book_info = pd.pivot_table(authors_price, values='price', index='author_name', columns='cover', aggfunc=np.sum, fill_value=0)\n",
    "\n",
    "# Сохранение датасета в файл формата pickle\n",
    "book_info.to_pickle(\"book_info.pkl\")\n",
    "\n",
    "# Загрузка сохраненного датасета\n",
    "book_info2 = pd.read_pickle(\"book_info.pkl\")\n",
    "\n",
    "# Проверка идентичности датафреймов book_info и book_info2\n",
    "if book_info.equals(book_info2):\n",
    "    print(\"Датасеты book_info и book_info2 идентичны.\")\n",
    "else:\n",
    "    print(\"Датасеты book_info и book_info2 не идентичны.\")"
   ]
  },
  {
   "cell_type": "code",
   "execution_count": null,
   "id": "56b335b6",
   "metadata": {},
   "outputs": [],
   "source": []
  }
 ],
 "metadata": {
  "kernelspec": {
   "display_name": "Python 3 (ipykernel)",
   "language": "python",
   "name": "python3"
  },
  "language_info": {
   "codemirror_mode": {
    "name": "ipython",
    "version": 3
   },
   "file_extension": ".py",
   "mimetype": "text/x-python",
   "name": "python",
   "nbconvert_exporter": "python",
   "pygments_lexer": "ipython3",
   "version": "3.7.0"
  }
 },
 "nbformat": 4,
 "nbformat_minor": 5
}
